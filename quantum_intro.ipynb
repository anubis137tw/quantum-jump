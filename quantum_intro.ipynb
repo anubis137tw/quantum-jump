{
 "cells": [
  {
   "cell_type": "code",
   "execution_count": 41,
   "id": "10c14c76-9cb7-43d9-acaf-7212e189590e",
   "metadata": {},
   "outputs": [],
   "source": [
    "# Pure state and Expectation value\n",
    "import numpy as np\n",
    "\n",
    "# Preparation of the state\n",
    "d = 3 # the system's dimension\n",
    "basis = np.eye(d) # orthonormal basis (using identity matrix)\n",
    "cs = np.array([1/np.sqrt(3),1j/np.sqrt(3),-1/np.sqrt(3)]) # some coefficients (normalised)\n",
    "psi = sum([c*basis[j] for j,c in enumerate(cs)]) # the state psi # enumerate return (index, element)\n",
    "\n",
    "# Preparation of the operator\n",
    "A = np.array([[1,0,0],[0,2,0],[0,0,3]]) # some operator\n",
    "\n",
    "# expectation value of A in state psi\n",
    "exp_A = np.real(psi.T @ A @ psi)"
   ]
  },
  {
   "cell_type": "code",
   "execution_count": 2,
   "id": "99652ccb-9c59-4a9f-8170-dbd87fc9f758",
   "metadata": {},
   "outputs": [
    {
     "name": "stdout",
     "output_type": "stream",
     "text": [
      "2.5\n"
     ]
    }
   ],
   "source": [
    "# Mixed state and Expectation value\n",
    "import numpy as np\n",
    "\n",
    "# Preparation of the density matrix\n",
    "d = 3 # the system's dimension\n",
    "basis = np.eye(d) # orthonormal basis (using identity matrix)\n",
    "ps = np.array([0.1,0.3,0.6]) # some probabilities (normalised)\n",
    "rho = sum([p * np.outer(basis[j],basis[j].conjugate()) for j,p in enumerate(ps)]) # density operator\n",
    "\n",
    "# Preparation of the operator\n",
    "A = np.array([[1,0,0],[0,2,0],[0,0,3]]) # some operator\n",
    "\n",
    "# expectation value of some operator in some state\n",
    "exp_A = np.trace(rho @ A)\n",
    "print(exp_A)"
   ]
  },
  {
   "cell_type": "code",
   "execution_count": 8,
   "id": "3a70928e-9895-474f-95ce-318eaae60861",
   "metadata": {},
   "outputs": [
    {
     "name": "stdout",
     "output_type": "stream",
     "text": [
      "[0. 1. 0. 0.]\n"
     ]
    }
   ],
   "source": [
    "# Constructing a composite system with Tensor product\n",
    "\n",
    "d = 2 # the system's dimension\n",
    "basis = np.eye(d) # orthonormal basis (using identity matrix)\n",
    "\n",
    "cs1 = np.array([1,0])\n",
    "cs2 = np.array([0,1])\n",
    "\n",
    "psi1 = sum([c*basis[j] for j,c in enumerate(cs1)]) \n",
    "psi2 = sum([c*basis[j] for j,c in enumerate(cs2)])\n",
    "\n",
    "psi = np.kron(psi1,psi2) # kronecker product\n",
    "\n",
    "print(psi)"
   ]
  },
  {
   "cell_type": "code",
   "execution_count": 25,
   "id": "b9056ced-d5b5-42e3-8919-e7d77bda6703",
   "metadata": {},
   "outputs": [
    {
     "name": "stdout",
     "output_type": "stream",
     "text": [
      "0.625\n"
     ]
    }
   ],
   "source": [
    "# Bipartite pure state\n",
    "theta=np.pi/3 # 0 and pi/2 is a separable state. pi/4 maximally entangled\n",
    "d1=d2=2\n",
    "basis = np.eye(d1*d2)\n",
    "cs = np.array([np.cos(theta),0,0,np.sin(theta)])\n",
    "psi_theta = sum([c*basis[j] for j,c in enumerate(cs)])\n",
    "\n",
    "rho_theta=np.outer(psi_theta,psi_theta.conjugate()) # create a pure state\n",
    "print(np.trace(rho_theta * rho_theta)) # Measure the degree of mixedness: purity"
   ]
  },
  {
   "cell_type": "code",
   "execution_count": 26,
   "id": "9557b55e-8b4c-4ff9-b43c-660c6c67584b",
   "metadata": {},
   "outputs": [
    {
     "name": "stdout",
     "output_type": "stream",
     "text": [
      "[[0.25 0.  ]\n",
      " [0.   0.75]]\n",
      "[[0.25 0.  ]\n",
      " [0.   0.75]]\n"
     ]
    }
   ],
   "source": [
    "# partial trace to obtain the marginal state\n",
    "rho1 = np.trace(rho_theta.reshape(d1,d2,d1,d2), axis1=0, axis2=2)\n",
    "rho2 = np.trace(rho_theta.reshape(d1,d2,d1,d2), axis1=1, axis2=3)\n",
    "print(rho1)\n",
    "print(rho2)"
   ]
  },
  {
   "cell_type": "code",
   "execution_count": 39,
   "id": "9f3ae93f-4ee0-49a7-9d57-6a4118110498",
   "metadata": {},
   "outputs": [
    {
     "name": "stdout",
     "output_type": "stream",
     "text": [
      "2.0000000000000004\n",
      "Quantum object: dims=[[3], [1]], shape=(3, 1), type='ket', dtype=Dense\n",
      "Qobj data =\n",
      "[[ 0.57735027+0.j        ]\n",
      " [ 0.        +0.57735027j]\n",
      " [-0.57735027+0.j        ]]\n",
      "Quantum object: dims=[[3], [3]], shape=(3, 3), type='oper', dtype=Dense, isherm=True\n",
      "Qobj data =\n",
      "[[1. 0. 0.]\n",
      " [0. 2. 0.]\n",
      " [0. 0. 3.]]\n",
      "Quantum object: dims=[[1], [3]], shape=(1, 3), type='bra', dtype=Dense\n",
      "Qobj data =\n",
      "[[ 0.57735027-0.j          0.        -0.57735027j -0.57735027-0.j        ]]\n"
     ]
    }
   ],
   "source": [
    "# Pure state and Expectation value from qutip\n",
    "import qutip\n",
    "\n",
    "phi=Qobj([[1/np.sqrt(3)],[1j/np.sqrt(3)],[-1/np.sqrt(3)]]) # create a ket state\n",
    "B=Qobj(np.array([[1,0,0],[0,2,0],[0,0,3]])) # create an operator\n",
    "phi_dagger=phi.conj().trans() # the corresponding daggered state\n",
    "\n",
    "try:\n",
    "  exp_B = phi_dagger @ B @ phi # expectation value\n",
    "except:\n",
    "  print(\"OperationError\")\n",
    "else:\n",
    "  print(np.real(exp_B)) # get rid of the immaginary part\n",
    "finally:\n",
    "  print(phi)\n",
    "  print(B)\n",
    "  print(phi_dagger)\n"
   ]
  },
  {
   "cell_type": "code",
   "execution_count": 46,
   "id": "1134fede-8449-4765-931f-8850a9eb5b5f",
   "metadata": {},
   "outputs": [
    {
     "name": "stdout",
     "output_type": "stream",
     "text": [
      "[[1 2 3]\n",
      " [4 5 6]]\n",
      "2\n",
      "0.0\n",
      "[[[[ 0  1]\n",
      "   [ 2  3]]\n",
      "\n",
      "  [[ 4  5]\n",
      "   [ 6  7]]]\n",
      "\n",
      "\n",
      " [[[ 8  9]\n",
      "   [10 11]]\n",
      "\n",
      "  [[12 13]\n",
      "   [14 15]]]]\n",
      "[[12 14]\n",
      " [16 18]]\n"
     ]
    }
   ],
   "source": [
    "# numpy array \n",
    "\n",
    "x2darray = np.array([1,2,3,4,5,6]) # 2D array\n",
    "x2darray = x2darray.reshape((2,3))\n",
    "x3darray = np.zeros((2, 2, 2)) # 3D array\n",
    "x4darray = np.arange(16).reshape((2, 2, 2, 2)) # 4D array\n",
    "\n",
    "print(x2darray)\n",
    "print(x2darray[0,1])\n",
    "print(x3darray[0,1,0])\n",
    "print(x4darray)\n",
    "print(np.trace(x4darray, axis1=0, axis2=1))"
   ]
  },
  {
   "cell_type": "code",
   "execution_count": 56,
   "id": "d1a69256-2a5b-438c-9423-4d6311fd6d72",
   "metadata": {},
   "outputs": [
    {
     "name": "stdout",
     "output_type": "stream",
     "text": [
      "[[12 14]\n",
      " [16 18]]\n",
      "[[12 14]\n",
      " [16 18]]\n",
      "[[10 12]\n",
      " [18 20]]\n",
      "[[10 12]\n",
      " [18 20]]\n"
     ]
    }
   ],
   "source": [
    "# numpy N-dimensional array trace \n",
    "\n",
    "x4darray = np.arange(16).reshape((2, 2, 2, 2)) # 4D array\n",
    "\n",
    "print(np.trace(x4darray))\n",
    "x00 = sum([x4darray[i,i,0,0] for i in range(2)]) # trace of the sub-2D array\n",
    "x01 = sum([x4darray[i,i,0,1] for i in range(2)])\n",
    "x10 = sum([x4darray[i,i,1,0] for i in range(2)])\n",
    "x11 = sum([x4darray[i,i,1,1] for i in range(2)])\n",
    "print(np.array([[x00,x01],[x10,x11]]))\n",
    "\n",
    "print(np.trace(x4darray, axis1=0, axis2=2))\n",
    "x00 = sum([x4darray[i,0,i,0] for i in range(2)]) # trace of the sub-2D array\n",
    "x01 = sum([x4darray[i,0,i,1] for i in range(2)])\n",
    "x10 = sum([x4darray[i,1,i,0] for i in range(2)])\n",
    "x11 = sum([x4darray[i,1,i,1] for i in range(2)])\n",
    "print(np.array([[x00,x01],[x10,x11]]))"
   ]
  },
  {
   "cell_type": "code",
   "execution_count": 57,
   "id": "4075166f-8263-432e-8a69-0c65a109d7f6",
   "metadata": {},
   "outputs": [
    {
     "data": {
      "image/png": "[encoded data removed]",
      "text/plain": [
       "<Figure size 600x200 with 1 Axes>"
      ]
     },
     "metadata": {},
     "output_type": "display_data"
    }
   ],
   "source": [
    "import numpy as np\n",
    "import matplotlib.pyplot as plt\n",
    "\n",
    "# Purity of state rho\n",
    "def Purity(rho):\n",
    "  return np.trace(rho.dot(rho))\n",
    "\n",
    "# Partial trace of bipartite systems\n",
    "def PartialTrace(rho,d1,d2,system=1):\n",
    "  axis1,axis2 = 0,2\n",
    "  if system == 2:\n",
    "    axis1 += 1\n",
    "    axis2 += 1\n",
    "  return np.trace(rho.reshape(d1,d2,d1,d2), axis1=axis1, axis2=axis2)\n",
    "\n",
    "d1,d2 = 2,2 # dimension of each subsystem\n",
    "B1,B2 = np.eye(d1),np.eye(d2) # basis for each subssystem\n",
    "thetas = np.linspace(0,np.pi/2,100) # angle for superposition coefficient\n",
    "purity = [] # purity set\n",
    "\n",
    "for theta in thetas: # iterate over theta\n",
    "  psi = (np.cos(theta)*np.kron(B1[0],B2[0])+np.sin(theta)*np.kron(B1[1],B2[1])) # state vector\n",
    "  rho = np.outer(psi,psi.conjugate()) # density operator associated to psi\n",
    "  rho1 = PartialTrace(rho,d1,d2,system=1) # marginal state of system 1\n",
    "  purity.append(Purity(rho1)) # calculate and append purity\n",
    "\n",
    "fig,ax = plt.subplots(figsize = (6,2))\n",
    "ax.plot(thetas/np.pi,purity, color = 'blue');\n",
    "ax.set_xlabel(r'$\\theta/\\pi$', usetex = True, fontsize = 10);\n",
    "ax.set_ylabel(r'Purity $\\mathcal{P}[\\rho_1(\\theta)]$', usetex = True, fontsize = 10);"
   ]
  },
  {
   "cell_type": "code",
   "execution_count": null,
   "id": "a1fafaa0-c665-42d4-8db1-b7c93f4446d4",
   "metadata": {},
   "outputs": [],
   "source": []
  }
 ],
 "metadata": {
  "kernelspec": {
   "display_name": "Python 3 (ipykernel)",
   "language": "python",
   "name": "python3"
  },
  "language_info": {
   "codemirror_mode": {
    "name": "ipython",
    "version": 3
   },
   "file_extension": ".py",
   "mimetype": "text/x-python",
   "name": "python",
   "nbconvert_exporter": "python",
   "pygments_lexer": "ipython3",
   "version": "3.12.2"
  }
 },
 "nbformat": 4,
 "nbformat_minor": 5
}
